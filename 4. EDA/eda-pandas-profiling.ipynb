{
 "cells": [
  {
   "cell_type": "markdown",
   "id": "89498425",
   "metadata": {},
   "source": [
    "### 1. ydata_profiling"
   ]
  },
  {
   "cell_type": "code",
   "execution_count": 6,
   "id": "6e030f5c",
   "metadata": {},
   "outputs": [
    {
     "name": "stderr",
     "output_type": "stream",
     "text": [
      "Summarize dataset:  83%|████████▎ | 25/30 [00:01<00:00, 39.40it/s, Calculate auto correlation]           c:\\Users\\HP\\anaconda3\\envs\\caps\\lib\\site-packages\\scipy\\stats\\_stats_py.py:4916: ConstantInputWarning: An input array is constant; the correlation coefficient is not defined.\n",
      "  warnings.warn(stats.ConstantInputWarning(warn_msg))\n",
      "Summarize dataset: 100%|██████████| 133/133 [00:25<00:00,  5.19it/s, Completed]                                      \n",
      "Generate report structure: 100%|██████████| 1/1 [00:13<00:00, 13.81s/it]\n",
      "Render HTML: 100%|██████████| 1/1 [00:05<00:00,  5.38s/it]\n",
      "Export report to file: 100%|██████████| 1/1 [00:00<00:00, 18.21it/s]\n"
     ]
    }
   ],
   "source": [
    "import pandas as pd\n",
    "from ydata_profiling import ProfileReport\n",
    "\n",
    "# Load your dataset\n",
    "df = pd.read_csv('gurgaon_properties_cleaned_v2.csv').drop_duplicates()\n",
    "\n",
    "# Create the ProfileReport object\n",
    "profile = ProfileReport(df, title='Pandas Profiling Report', explorative=True)\n",
    "\n",
    "# Generate the report\n",
    "profile.to_file(\"output_report.html\")\n"
   ]
  },
  {
   "cell_type": "markdown",
   "id": "0a99fa9d",
   "metadata": {},
   "source": [
    "### 2. dtale"
   ]
  },
  {
   "cell_type": "code",
   "execution_count": null,
   "id": "28de5d9e",
   "metadata": {},
   "outputs": [],
   "source": []
  }
 ],
 "metadata": {
  "kernelspec": {
   "display_name": "Python 3 (ipykernel)",
   "language": "python",
   "name": "python3"
  },
  "language_info": {
   "codemirror_mode": {
    "name": "ipython",
    "version": 3
   },
   "file_extension": ".py",
   "mimetype": "text/x-python",
   "name": "python",
   "nbconvert_exporter": "python",
   "pygments_lexer": "ipython3",
   "version": "3.8.18"
  }
 },
 "nbformat": 4,
 "nbformat_minor": 5
}
